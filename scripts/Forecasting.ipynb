{
 "cells": [
  {
   "cell_type": "markdown",
   "id": "e2e76565",
   "metadata": {},
   "source": [
    "# Mr Haulage Order Forecasting"
   ]
  },
  {
   "cell_type": "markdown",
   "id": "3cec8d3c",
   "metadata": {},
   "source": [
    "Contained in this notebook are the forecasting methods used to predict orders over the next two years"
   ]
  },
  {
   "cell_type": "markdown",
   "id": "51c3b30c",
   "metadata": {},
   "source": [
    "### Libraries"
   ]
  },
  {
   "cell_type": "code",
   "execution_count": 1,
   "id": "41d3dca5",
   "metadata": {},
   "outputs": [],
   "source": [
    "import pandas as pd \n",
    "import numpy as np"
   ]
  },
  {
   "cell_type": "markdown",
   "id": "5aa548d6",
   "metadata": {},
   "source": [
    "### Data Loading"
   ]
  },
  {
   "cell_type": "code",
   "execution_count": 3,
   "id": "e3c33456",
   "metadata": {},
   "outputs": [
    {
     "data": {
      "text/html": [
       "<div>\n",
       "<style scoped>\n",
       "    .dataframe tbody tr th:only-of-type {\n",
       "        vertical-align: middle;\n",
       "    }\n",
       "\n",
       "    .dataframe tbody tr th {\n",
       "        vertical-align: top;\n",
       "    }\n",
       "\n",
       "    .dataframe thead th {\n",
       "        text-align: right;\n",
       "    }\n",
       "</style>\n",
       "<table border=\"1\" class=\"dataframe\">\n",
       "  <thead>\n",
       "    <tr style=\"text-align: right;\">\n",
       "      <th></th>\n",
       "      <th>Order ID</th>\n",
       "      <th>Customer ID</th>\n",
       "      <th>Order Date</th>\n",
       "      <th>Order Time</th>\n",
       "      <th>Item Serial</th>\n",
       "      <th>Box Type</th>\n",
       "      <th>Delivery Region</th>\n",
       "      <th>Distance (miles)</th>\n",
       "    </tr>\n",
       "  </thead>\n",
       "  <tbody>\n",
       "    <tr>\n",
       "      <th>0</th>\n",
       "      <td>1097342</td>\n",
       "      <td>733603</td>\n",
       "      <td>22/08/2021</td>\n",
       "      <td>00:14</td>\n",
       "      <td>30351</td>\n",
       "      <td>Small</td>\n",
       "      <td>South East</td>\n",
       "      <td>70</td>\n",
       "    </tr>\n",
       "    <tr>\n",
       "      <th>1</th>\n",
       "      <td>1097343</td>\n",
       "      <td>405061</td>\n",
       "      <td>22/08/2021</td>\n",
       "      <td>07:08</td>\n",
       "      <td>17634</td>\n",
       "      <td>Small</td>\n",
       "      <td>Greater London</td>\n",
       "      <td>32</td>\n",
       "    </tr>\n",
       "    <tr>\n",
       "      <th>2</th>\n",
       "      <td>1097344</td>\n",
       "      <td>842139</td>\n",
       "      <td>22/08/2021</td>\n",
       "      <td>10:15</td>\n",
       "      <td>25598</td>\n",
       "      <td>Small</td>\n",
       "      <td>South West</td>\n",
       "      <td>190</td>\n",
       "    </tr>\n",
       "    <tr>\n",
       "      <th>3</th>\n",
       "      <td>1097345</td>\n",
       "      <td>211806</td>\n",
       "      <td>22/08/2021</td>\n",
       "      <td>17:05</td>\n",
       "      <td>10104</td>\n",
       "      <td>Small</td>\n",
       "      <td>South West</td>\n",
       "      <td>85</td>\n",
       "    </tr>\n",
       "    <tr>\n",
       "      <th>4</th>\n",
       "      <td>1097346</td>\n",
       "      <td>103222</td>\n",
       "      <td>22/08/2021</td>\n",
       "      <td>23:48</td>\n",
       "      <td>3252</td>\n",
       "      <td>Small</td>\n",
       "      <td>Greater London</td>\n",
       "      <td>43</td>\n",
       "    </tr>\n",
       "  </tbody>\n",
       "</table>\n",
       "</div>"
      ],
      "text/plain": [
       "   Order ID  Customer ID  Order Date Order Time  Item Serial Box Type  \\\n",
       "0   1097342       733603  22/08/2021      00:14        30351    Small   \n",
       "1   1097343       405061  22/08/2021      07:08        17634    Small   \n",
       "2   1097344       842139  22/08/2021      10:15        25598    Small   \n",
       "3   1097345       211806  22/08/2021      17:05        10104    Small   \n",
       "4   1097346       103222  22/08/2021      23:48         3252    Small   \n",
       "\n",
       "  Delivery Region  Distance (miles)  \n",
       "0      South East                70  \n",
       "1  Greater London                32  \n",
       "2      South West               190  \n",
       "3      South West                85  \n",
       "4  Greater London                43  "
      ]
     },
     "execution_count": 3,
     "metadata": {},
     "output_type": "execute_result"
    }
   ],
   "source": [
    "orders = pd.read_csv(\"../data/clean/orders.csv\")\n",
    "orders.head()"
   ]
  },
  {
   "cell_type": "markdown",
   "id": "f04f89c6",
   "metadata": {},
   "source": [
    "### Data Manipulation"
   ]
  },
  {
   "cell_type": "markdown",
   "id": "63d15247",
   "metadata": {},
   "source": []
  },
  {
   "cell_type": "code",
   "execution_count": null,
   "id": "29fe942b",
   "metadata": {},
   "outputs": [],
   "source": []
  }
 ],
 "metadata": {
  "kernelspec": {
   "display_name": "Python 3 (ipykernel)",
   "language": "python",
   "name": "python3"
  },
  "language_info": {
   "codemirror_mode": {
    "name": "ipython",
    "version": 3
   },
   "file_extension": ".py",
   "mimetype": "text/x-python",
   "name": "python",
   "nbconvert_exporter": "python",
   "pygments_lexer": "ipython3",
   "version": "3.10.12"
  }
 },
 "nbformat": 4,
 "nbformat_minor": 5
}
